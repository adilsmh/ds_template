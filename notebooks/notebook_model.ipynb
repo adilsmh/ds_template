{
 "cells": [
  {
   "cell_type": "code",
   "execution_count": null,
   "metadata": {},
   "outputs": [],
   "source": [
    "import os\n",
    "\n",
    "# visualisation\n",
    "import numpy as np\n",
    "import pandas as pd\n",
    "import seaborn as sns\n",
    "import matplotlib.pyplot as plt\n",
    "%matplotlib inline\n",
    "%config InlineBackend.figure_format = 'retina'\n",
    "plt.rcParams['savefig.facecolor'] = \"0.8\"\n",
    "plt.rcParams.update({'figure.figsize': (15, 5), 'figure.dpi': 120})\n",
    "plt.style.use('fivethirtyeight')\n",
    "\n",
    "# models\n",
    "\n",
    "# fine-tuning\n",
    "\n",
    "# ignore warnings\n",
    "import warnings\n",
    "warnings.filterwarnings('ignore')"
   ]
  }
 ],
 "metadata": {
  "language_info": {
   "name": "python"
  },
  "orig_nbformat": 4
 },
 "nbformat": 4,
 "nbformat_minor": 2
}
